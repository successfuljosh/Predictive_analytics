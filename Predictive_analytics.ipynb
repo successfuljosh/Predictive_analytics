{
  "nbformat": 4,
  "nbformat_minor": 0,
  "metadata": {
    "colab": {
      "name": "Predictive_analytics.ipynb",
      "provenance": [],
      "collapsed_sections": [],
      "authorship_tag": "ABX9TyOi8GeLHtSdYEpymg152ITU",
      "include_colab_link": true
    },
    "kernelspec": {
      "name": "python3",
      "display_name": "Python 3"
    },
    "language_info": {
      "name": "python"
    }
  },
  "cells": [
    {
      "cell_type": "markdown",
      "metadata": {
        "id": "view-in-github",
        "colab_type": "text"
      },
      "source": [
        "<a href=\"https://colab.research.google.com/github/successfuljosh/Predictive_analytics/blob/main/Predictive_analytics.ipynb\" target=\"_parent\"><img src=\"https://colab.research.google.com/assets/colab-badge.svg\" alt=\"Open In Colab\"/></a>"
      ]
    },
    {
      "cell_type": "markdown",
      "source": [
        "# **Predictive Analysis Using LSTM**\n",
        "**Stock price of Microsoft Corporation (MSFT) as reported by the National Association of Securities Dealers Automated Quotations (NASDAQ)**"
      ],
      "metadata": {
        "id": "FRVs0ti_w0__"
      }
    },
    {
      "cell_type": "markdown",
      "source": [
        "**The long short term memory Technique**\n",
        "Long-term memory (LSTM) is a deep learning artificial recurrent neural network (RNN) architecture\n",
        "\n",
        "Unlike traditional feed-forward neural networks, LSTM has feedback connections. It can handle single data points (such as pictures) as well as full data sequences (such as speech or video)."
      ],
      "metadata": {
        "id": "gXj5PKzaxSP8"
      }
    },
    {
      "cell_type": "markdown",
      "source": [
        "**#Importing the Libraries**"
      ],
      "metadata": {
        "id": "wbgZVV_vxxQ7"
      }
    },
    {
      "cell_type": "code",
      "execution_count": 2,
      "metadata": {
        "colab": {
          "base_uri": "https://localhost:8080/"
        },
        "id": "_W6fqJmmwIyN",
        "outputId": "f3b6f225-adc8-4b1e-bcd2-20aae98fa628"
      },
      "outputs": [
        {
          "output_type": "stream",
          "name": "stdout",
          "text": [
            "Requirement already satisfied: keras in /usr/local/lib/python3.7/dist-packages (2.7.0)\n"
          ]
        }
      ],
      "source": [
        "# !pip freeze\n",
        "!pip install keras"
      ]
    },
    {
      "cell_type": "code",
      "source": [
        "#Importing the Libraries\n",
        "import pandas as pd\n",
        "import numpy as np\n",
        "%matplotlib inline\n",
        "import matplotlib. pyplot as plt\n",
        "import matplotlib\n",
        "from sklearn.preprocessing import MinMaxScaler\n",
        "from keras.layers import LSTM, Dense, Dropout\n",
        "from sklearn.model_selection import TimeSeriesSplit\n",
        "from sklearn.metrics import mean_squared_error, r2_score\n",
        "import matplotlib. dates as mandates\n",
        "from sklearn.preprocessing import MinMaxScaler\n",
        "from sklearn import linear_model\n",
        "from keras.models import Sequential\n",
        "from keras.layers import Dense\n",
        "import keras.backend as K\n",
        "from keras.callbacks import EarlyStopping\n",
        "# from keras.optimizers import adam\n",
        "from tensorflow.keras.optimizers import Adam\n",
        "from keras.models import load_model\n",
        "from keras.layers import LSTM\n",
        "from keras.utils.vis_utils import plot_model"
      ],
      "metadata": {
        "id": "rPb6wNd1xw8j"
      },
      "execution_count": 3,
      "outputs": []
    },
    {
      "cell_type": "markdown",
      "source": [
        "**#Get the Dataset**"
      ],
      "metadata": {
        "id": "kZjWtaNB1Umt"
      }
    },
    {
      "cell_type": "code",
      "source": [
        "#Get the Dataset\n",
        "import os\n",
        "from google.colab import drive\n",
        "drive.mount('/content/gdrive', force_remount=True)\n",
        "data_dir = '/content/gdrive/MyDrive/StockAnalysis/'\n",
        "os.chdir(data_dir)"
      ],
      "metadata": {
        "colab": {
          "base_uri": "https://localhost:8080/"
        },
        "id": "vJiDl2Nu0Ci2",
        "outputId": "196c2db6-dc80-48e6-9d85-c3ae1ff8ed0f"
      },
      "execution_count": 4,
      "outputs": [
        {
          "output_type": "stream",
          "name": "stdout",
          "text": [
            "Mounted at /content/gdrive\n"
          ]
        }
      ]
    },
    {
      "cell_type": "code",
      "source": [
        "df = pd.read_csv('MSFT.csv',na_values=['null'],index_col='Date',parse_dates=True,infer_datetime_format=True)\n",
        "df.head()"
      ],
      "metadata": {
        "colab": {
          "base_uri": "https://localhost:8080/",
          "height": 238
        },
        "id": "V0yr84OL2Wed",
        "outputId": "341ae450-bc56-4178-ec62-3673f1ad5db1"
      },
      "execution_count": 5,
      "outputs": [
        {
          "output_type": "execute_result",
          "data": {
            "text/html": [
              "\n",
              "  <div id=\"df-d921b8a6-429b-4889-a372-2dc552844595\">\n",
              "    <div class=\"colab-df-container\">\n",
              "      <div>\n",
              "<style scoped>\n",
              "    .dataframe tbody tr th:only-of-type {\n",
              "        vertical-align: middle;\n",
              "    }\n",
              "\n",
              "    .dataframe tbody tr th {\n",
              "        vertical-align: top;\n",
              "    }\n",
              "\n",
              "    .dataframe thead th {\n",
              "        text-align: right;\n",
              "    }\n",
              "</style>\n",
              "<table border=\"1\" class=\"dataframe\">\n",
              "  <thead>\n",
              "    <tr style=\"text-align: right;\">\n",
              "      <th></th>\n",
              "      <th>Open</th>\n",
              "      <th>High</th>\n",
              "      <th>Low</th>\n",
              "      <th>Close</th>\n",
              "      <th>Adj Close</th>\n",
              "      <th>Volume</th>\n",
              "    </tr>\n",
              "    <tr>\n",
              "      <th>Date</th>\n",
              "      <th></th>\n",
              "      <th></th>\n",
              "      <th></th>\n",
              "      <th></th>\n",
              "      <th></th>\n",
              "      <th></th>\n",
              "    </tr>\n",
              "  </thead>\n",
              "  <tbody>\n",
              "    <tr>\n",
              "      <th>1986-03-13</th>\n",
              "      <td>0.088542</td>\n",
              "      <td>0.101563</td>\n",
              "      <td>0.088542</td>\n",
              "      <td>0.097222</td>\n",
              "      <td>0.061378</td>\n",
              "      <td>1031788800</td>\n",
              "    </tr>\n",
              "    <tr>\n",
              "      <th>1986-03-14</th>\n",
              "      <td>0.097222</td>\n",
              "      <td>0.102431</td>\n",
              "      <td>0.097222</td>\n",
              "      <td>0.100694</td>\n",
              "      <td>0.063570</td>\n",
              "      <td>308160000</td>\n",
              "    </tr>\n",
              "    <tr>\n",
              "      <th>1986-03-17</th>\n",
              "      <td>0.100694</td>\n",
              "      <td>0.103299</td>\n",
              "      <td>0.100694</td>\n",
              "      <td>0.102431</td>\n",
              "      <td>0.064667</td>\n",
              "      <td>133171200</td>\n",
              "    </tr>\n",
              "    <tr>\n",
              "      <th>1986-03-18</th>\n",
              "      <td>0.102431</td>\n",
              "      <td>0.103299</td>\n",
              "      <td>0.098958</td>\n",
              "      <td>0.099826</td>\n",
              "      <td>0.063022</td>\n",
              "      <td>67766400</td>\n",
              "    </tr>\n",
              "    <tr>\n",
              "      <th>1986-03-19</th>\n",
              "      <td>0.099826</td>\n",
              "      <td>0.100694</td>\n",
              "      <td>0.097222</td>\n",
              "      <td>0.098090</td>\n",
              "      <td>0.061926</td>\n",
              "      <td>47894400</td>\n",
              "    </tr>\n",
              "  </tbody>\n",
              "</table>\n",
              "</div>\n",
              "      <button class=\"colab-df-convert\" onclick=\"convertToInteractive('df-d921b8a6-429b-4889-a372-2dc552844595')\"\n",
              "              title=\"Convert this dataframe to an interactive table.\"\n",
              "              style=\"display:none;\">\n",
              "        \n",
              "  <svg xmlns=\"http://www.w3.org/2000/svg\" height=\"24px\"viewBox=\"0 0 24 24\"\n",
              "       width=\"24px\">\n",
              "    <path d=\"M0 0h24v24H0V0z\" fill=\"none\"/>\n",
              "    <path d=\"M18.56 5.44l.94 2.06.94-2.06 2.06-.94-2.06-.94-.94-2.06-.94 2.06-2.06.94zm-11 1L8.5 8.5l.94-2.06 2.06-.94-2.06-.94L8.5 2.5l-.94 2.06-2.06.94zm10 10l.94 2.06.94-2.06 2.06-.94-2.06-.94-.94-2.06-.94 2.06-2.06.94z\"/><path d=\"M17.41 7.96l-1.37-1.37c-.4-.4-.92-.59-1.43-.59-.52 0-1.04.2-1.43.59L10.3 9.45l-7.72 7.72c-.78.78-.78 2.05 0 2.83L4 21.41c.39.39.9.59 1.41.59.51 0 1.02-.2 1.41-.59l7.78-7.78 2.81-2.81c.8-.78.8-2.07 0-2.86zM5.41 20L4 18.59l7.72-7.72 1.47 1.35L5.41 20z\"/>\n",
              "  </svg>\n",
              "      </button>\n",
              "      \n",
              "  <style>\n",
              "    .colab-df-container {\n",
              "      display:flex;\n",
              "      flex-wrap:wrap;\n",
              "      gap: 12px;\n",
              "    }\n",
              "\n",
              "    .colab-df-convert {\n",
              "      background-color: #E8F0FE;\n",
              "      border: none;\n",
              "      border-radius: 50%;\n",
              "      cursor: pointer;\n",
              "      display: none;\n",
              "      fill: #1967D2;\n",
              "      height: 32px;\n",
              "      padding: 0 0 0 0;\n",
              "      width: 32px;\n",
              "    }\n",
              "\n",
              "    .colab-df-convert:hover {\n",
              "      background-color: #E2EBFA;\n",
              "      box-shadow: 0px 1px 2px rgba(60, 64, 67, 0.3), 0px 1px 3px 1px rgba(60, 64, 67, 0.15);\n",
              "      fill: #174EA6;\n",
              "    }\n",
              "\n",
              "    [theme=dark] .colab-df-convert {\n",
              "      background-color: #3B4455;\n",
              "      fill: #D2E3FC;\n",
              "    }\n",
              "\n",
              "    [theme=dark] .colab-df-convert:hover {\n",
              "      background-color: #434B5C;\n",
              "      box-shadow: 0px 1px 3px 1px rgba(0, 0, 0, 0.15);\n",
              "      filter: drop-shadow(0px 1px 2px rgba(0, 0, 0, 0.3));\n",
              "      fill: #FFFFFF;\n",
              "    }\n",
              "  </style>\n",
              "\n",
              "      <script>\n",
              "        const buttonEl =\n",
              "          document.querySelector('#df-d921b8a6-429b-4889-a372-2dc552844595 button.colab-df-convert');\n",
              "        buttonEl.style.display =\n",
              "          google.colab.kernel.accessAllowed ? 'block' : 'none';\n",
              "\n",
              "        async function convertToInteractive(key) {\n",
              "          const element = document.querySelector('#df-d921b8a6-429b-4889-a372-2dc552844595');\n",
              "          const dataTable =\n",
              "            await google.colab.kernel.invokeFunction('convertToInteractive',\n",
              "                                                     [key], {});\n",
              "          if (!dataTable) return;\n",
              "\n",
              "          const docLinkHtml = 'Like what you see? Visit the ' +\n",
              "            '<a target=\"_blank\" href=https://colab.research.google.com/notebooks/data_table.ipynb>data table notebook</a>'\n",
              "            + ' to learn more about interactive tables.';\n",
              "          element.innerHTML = '';\n",
              "          dataTable['output_type'] = 'display_data';\n",
              "          await google.colab.output.renderOutput(dataTable, element);\n",
              "          const docLink = document.createElement('div');\n",
              "          docLink.innerHTML = docLinkHtml;\n",
              "          element.appendChild(docLink);\n",
              "        }\n",
              "      </script>\n",
              "    </div>\n",
              "  </div>\n",
              "  "
            ],
            "text/plain": [
              "                Open      High       Low     Close  Adj Close      Volume\n",
              "Date                                                                     \n",
              "1986-03-13  0.088542  0.101563  0.088542  0.097222   0.061378  1031788800\n",
              "1986-03-14  0.097222  0.102431  0.097222  0.100694   0.063570   308160000\n",
              "1986-03-17  0.100694  0.103299  0.100694  0.102431   0.064667   133171200\n",
              "1986-03-18  0.102431  0.103299  0.098958  0.099826   0.063022    67766400\n",
              "1986-03-19  0.099826  0.100694  0.097222  0.098090   0.061926    47894400"
            ]
          },
          "metadata": {},
          "execution_count": 5
        }
      ]
    },
    {
      "cell_type": "code",
      "source": [
        "df.isna().any()"
      ],
      "metadata": {
        "colab": {
          "base_uri": "https://localhost:8080/"
        },
        "id": "MTZOsgcv92To",
        "outputId": "42f64e01-52fb-4485-ad26-2255ba5708bd"
      },
      "execution_count": 6,
      "outputs": [
        {
          "output_type": "execute_result",
          "data": {
            "text/plain": [
              "Open         False\n",
              "High         False\n",
              "Low          False\n",
              "Close        False\n",
              "Adj Close    False\n",
              "Volume       False\n",
              "dtype: bool"
            ]
          },
          "metadata": {},
          "execution_count": 6
        }
      ]
    },
    {
      "cell_type": "code",
      "source": [
        "df.info()"
      ],
      "metadata": {
        "colab": {
          "base_uri": "https://localhost:8080/"
        },
        "id": "f_SHzQ8G99uG",
        "outputId": "d543b3e8-cbc5-49db-94a2-124d224cdccc"
      },
      "execution_count": 7,
      "outputs": [
        {
          "output_type": "stream",
          "name": "stdout",
          "text": [
            "<class 'pandas.core.frame.DataFrame'>\n",
            "DatetimeIndex: 9008 entries, 1986-03-13 to 2021-12-06\n",
            "Data columns (total 6 columns):\n",
            " #   Column     Non-Null Count  Dtype  \n",
            "---  ------     --------------  -----  \n",
            " 0   Open       9008 non-null   float64\n",
            " 1   High       9008 non-null   float64\n",
            " 2   Low        9008 non-null   float64\n",
            " 3   Close      9008 non-null   float64\n",
            " 4   Adj Close  9008 non-null   float64\n",
            " 5   Volume     9008 non-null   int64  \n",
            "dtypes: float64(5), int64(1)\n",
            "memory usage: 492.6 KB\n"
          ]
        }
      ]
    },
    {
      "cell_type": "code",
      "source": [
        "#Print the shape of Dataframe  and Check for Null Values\n",
        "print('Dataframe Shape: ', df.shape)\n",
        "print('Null Value Present: ', df.isnull().values.any())"
      ],
      "metadata": {
        "colab": {
          "base_uri": "https://localhost:8080/"
        },
        "id": "HTG6EXhG21l-",
        "outputId": "aad9556c-edc5-4d30-c6de-a776982e1c59"
      },
      "execution_count": 8,
      "outputs": [
        {
          "output_type": "stream",
          "name": "stdout",
          "text": [
            "Dataframe Shape:  (9008, 6)\n",
            "Null Value Present:  False\n"
          ]
        }
      ]
    },
    {
      "cell_type": "markdown",
      "source": [
        "**Adjusted close ** is the closing price after adjustments for all applicable splits and dividend distributions\n",
        "\n",
        "We use the adjusted closing price"
      ],
      "metadata": {
        "id": "dJP_FOhX4Fdb"
      }
    },
    {
      "cell_type": "code",
      "source": [
        "df['Adj Close'].plot(figsize=(16,6))"
      ],
      "metadata": {
        "colab": {
          "base_uri": "https://localhost:8080/",
          "height": 384
        },
        "id": "uxqKeS-c3cc_",
        "outputId": "52058d05-e3a8-4fef-b3bb-7bb0e3b20f5d"
      },
      "execution_count": 9,
      "outputs": [
        {
          "output_type": "execute_result",
          "data": {
            "text/plain": [
              "<matplotlib.axes._subplots.AxesSubplot at 0x7ff905912b50>"
            ]
          },
          "metadata": {},
          "execution_count": 9
        },
        {
          "output_type": "display_data",
          "data": {
            "image/png": "[encoded data removed]",
            "text/plain": [
              "<Figure size 1152x432 with 1 Axes>"
            ]
          },
          "metadata": {
            "needs_background": "light"
          }
        }
      ]
    },
    {
      "cell_type": "markdown",
      "source": [
        "**Setting the Target Variable and Selecting the Features**"
      ],
      "metadata": {
        "id": "2wRxYjRI5Nb8"
      }
    },
    {
      "cell_type": "code",
      "source": [
        "#Set Target or Output Variable\n",
        "output_var = pd.DataFrame(df['Adj Close'])\n",
        "#Selecting the Features\n",
        "features = ['Open', 'High', 'Low', 'Volume']"
      ],
      "metadata": {
        "id": "3EyR3c3F5MHm"
      },
      "execution_count": 10,
      "outputs": []
    },
    {
      "cell_type": "markdown",
      "source": [
        "**Scaling**\n",
        "To decrease the computational cost of the data in the table, we will scale the stock values to values between 0 and 1."
      ],
      "metadata": {
        "id": "B913ZTBE5k98"
      }
    },
    {
      "cell_type": "code",
      "source": [
        "scaler = MinMaxScaler()\n",
        "feature_transform = scaler.fit_transform(df[features])\n",
        "feature_transform = pd.DataFrame(columns=features, data=feature_transform, index=df.index)\n",
        "feature_transform.head()"
      ],
      "metadata": {
        "colab": {
          "base_uri": "https://localhost:8080/",
          "height": 238
        },
        "id": "I71uWBUF5oHY",
        "outputId": "b918704d-93fc-40f8-e4af-58db3b283d65"
      },
      "execution_count": 11,
      "outputs": [
        {
          "output_type": "execute_result",
          "data": {
            "text/html": [
              "\n",
              "  <div id=\"df-10723baa-04c1-43b5-acb9-724a372b9f14\">\n",
              "    <div class=\"colab-df-container\">\n",
              "      <div>\n",
              "<style scoped>\n",
              "    .dataframe tbody tr th:only-of-type {\n",
              "        vertical-align: middle;\n",
              "    }\n",
              "\n",
              "    .dataframe tbody tr th {\n",
              "        vertical-align: top;\n",
              "    }\n",
              "\n",
              "    .dataframe thead th {\n",
              "        text-align: right;\n",
              "    }\n",
              "</style>\n",
              "<table border=\"1\" class=\"dataframe\">\n",
              "  <thead>\n",
              "    <tr style=\"text-align: right;\">\n",
              "      <th></th>\n",
              "      <th>Open</th>\n",
              "      <th>High</th>\n",
              "      <th>Low</th>\n",
              "      <th>Volume</th>\n",
              "    </tr>\n",
              "    <tr>\n",
              "      <th>Date</th>\n",
              "      <th></th>\n",
              "      <th></th>\n",
              "      <th></th>\n",
              "      <th></th>\n",
              "    </tr>\n",
              "  </thead>\n",
              "  <tbody>\n",
              "    <tr>\n",
              "      <th>1986-03-13</th>\n",
              "      <td>0.000000</td>\n",
              "      <td>0.000027</td>\n",
              "      <td>0.000000</td>\n",
              "      <td>1.000000</td>\n",
              "    </tr>\n",
              "    <tr>\n",
              "      <th>1986-03-14</th>\n",
              "      <td>0.000025</td>\n",
              "      <td>0.000030</td>\n",
              "      <td>0.000025</td>\n",
              "      <td>0.297096</td>\n",
              "    </tr>\n",
              "    <tr>\n",
              "      <th>1986-03-17</th>\n",
              "      <td>0.000035</td>\n",
              "      <td>0.000032</td>\n",
              "      <td>0.000036</td>\n",
              "      <td>0.127119</td>\n",
              "    </tr>\n",
              "    <tr>\n",
              "      <th>1986-03-18</th>\n",
              "      <td>0.000040</td>\n",
              "      <td>0.000032</td>\n",
              "      <td>0.000030</td>\n",
              "      <td>0.063588</td>\n",
              "    </tr>\n",
              "    <tr>\n",
              "      <th>1986-03-19</th>\n",
              "      <td>0.000033</td>\n",
              "      <td>0.000025</td>\n",
              "      <td>0.000025</td>\n",
              "      <td>0.044285</td>\n",
              "    </tr>\n",
              "  </tbody>\n",
              "</table>\n",
              "</div>\n",
              "      <button class=\"colab-df-convert\" onclick=\"convertToInteractive('df-10723baa-04c1-43b5-acb9-724a372b9f14')\"\n",
              "              title=\"Convert this dataframe to an interactive table.\"\n",
              "              style=\"display:none;\">\n",
              "        \n",
              "  <svg xmlns=\"http://www.w3.org/2000/svg\" height=\"24px\"viewBox=\"0 0 24 24\"\n",
              "       width=\"24px\">\n",
              "    <path d=\"M0 0h24v24H0V0z\" fill=\"none\"/>\n",
              "    <path d=\"M18.56 5.44l.94 2.06.94-2.06 2.06-.94-2.06-.94-.94-2.06-.94 2.06-2.06.94zm-11 1L8.5 8.5l.94-2.06 2.06-.94-2.06-.94L8.5 2.5l-.94 2.06-2.06.94zm10 10l.94 2.06.94-2.06 2.06-.94-2.06-.94-.94-2.06-.94 2.06-2.06.94z\"/><path d=\"M17.41 7.96l-1.37-1.37c-.4-.4-.92-.59-1.43-.59-.52 0-1.04.2-1.43.59L10.3 9.45l-7.72 7.72c-.78.78-.78 2.05 0 2.83L4 21.41c.39.39.9.59 1.41.59.51 0 1.02-.2 1.41-.59l7.78-7.78 2.81-2.81c.8-.78.8-2.07 0-2.86zM5.41 20L4 18.59l7.72-7.72 1.47 1.35L5.41 20z\"/>\n",
              "  </svg>\n",
              "      </button>\n",
              "      \n",
              "  <style>\n",
              "    .colab-df-container {\n",
              "      display:flex;\n",
              "      flex-wrap:wrap;\n",
              "      gap: 12px;\n",
              "    }\n",
              "\n",
              "    .colab-df-convert {\n",
              "      background-color: #E8F0FE;\n",
              "      border: none;\n",
              "      border-radius: 50%;\n",
              "      cursor: pointer;\n",
              "      display: none;\n",
              "      fill: #1967D2;\n",
              "      height: 32px;\n",
              "      padding: 0 0 0 0;\n",
              "      width: 32px;\n",
              "    }\n",
              "\n",
              "    .colab-df-convert:hover {\n",
              "      background-color: #E2EBFA;\n",
              "      box-shadow: 0px 1px 2px rgba(60, 64, 67, 0.3), 0px 1px 3px 1px rgba(60, 64, 67, 0.15);\n",
              "      fill: #174EA6;\n",
              "    }\n",
              "\n",
              "    [theme=dark] .colab-df-convert {\n",
              "      background-color: #3B4455;\n",
              "      fill: #D2E3FC;\n",
              "    }\n",
              "\n",
              "    [theme=dark] .colab-df-convert:hover {\n",
              "      background-color: #434B5C;\n",
              "      box-shadow: 0px 1px 3px 1px rgba(0, 0, 0, 0.15);\n",
              "      filter: drop-shadow(0px 1px 2px rgba(0, 0, 0, 0.3));\n",
              "      fill: #FFFFFF;\n",
              "    }\n",
              "  </style>\n",
              "\n",
              "      <script>\n",
              "        const buttonEl =\n",
              "          document.querySelector('#df-10723baa-04c1-43b5-acb9-724a372b9f14 button.colab-df-convert');\n",
              "        buttonEl.style.display =\n",
              "          google.colab.kernel.accessAllowed ? 'block' : 'none';\n",
              "\n",
              "        async function convertToInteractive(key) {\n",
              "          const element = document.querySelector('#df-10723baa-04c1-43b5-acb9-724a372b9f14');\n",
              "          const dataTable =\n",
              "            await google.colab.kernel.invokeFunction('convertToInteractive',\n",
              "                                                     [key], {});\n",
              "          if (!dataTable) return;\n",
              "\n",
              "          const docLinkHtml = 'Like what you see? Visit the ' +\n",
              "            '<a target=\"_blank\" href=https://colab.research.google.com/notebooks/data_table.ipynb>data table notebook</a>'\n",
              "            + ' to learn more about interactive tables.';\n",
              "          element.innerHTML = '';\n",
              "          dataTable['output_type'] = 'display_data';\n",
              "          await google.colab.output.renderOutput(dataTable, element);\n",
              "          const docLink = document.createElement('div');\n",
              "          docLink.innerHTML = docLinkHtml;\n",
              "          element.appendChild(docLink);\n",
              "        }\n",
              "      </script>\n",
              "    </div>\n",
              "  </div>\n",
              "  "
            ],
            "text/plain": [
              "                Open      High       Low    Volume\n",
              "Date                                              \n",
              "1986-03-13  0.000000  0.000027  0.000000  1.000000\n",
              "1986-03-14  0.000025  0.000030  0.000025  0.297096\n",
              "1986-03-17  0.000035  0.000032  0.000036  0.127119\n",
              "1986-03-18  0.000040  0.000032  0.000030  0.063588\n",
              "1986-03-19  0.000033  0.000025  0.000025  0.044285"
            ]
          },
          "metadata": {},
          "execution_count": 11
        }
      ]
    },
    {
      "cell_type": "markdown",
      "source": [
        "**#Splitting to Training set and Test set**"
      ],
      "metadata": {
        "id": "GWtQPIDR6iFU"
      }
    },
    {
      "cell_type": "code",
      "source": [
        "#Splitting to Training set and Test set\n",
        "timesplit= TimeSeriesSplit(n_splits=10) #10& for test and 90 for train\n",
        "for train_index, test_index in timesplit.split(feature_transform):\n",
        "        X_train, X_test = feature_transform[:len(train_index)], feature_transform[len(train_index): (len(train_index)+len(test_index))]\n",
        "        y_train, y_test = output_var[:len(train_index)].values.ravel(), output_var[len(train_index): (len(train_index)+len(test_index))].values.ravel()"
      ],
      "metadata": {
        "id": "9IqO7huz6Uu7"
      },
      "execution_count": 12,
      "outputs": []
    },
    {
      "cell_type": "markdown",
      "source": [
        "**#Process the data for LSTM**\n",
        "LSTM can also be use for images, etc which is why its input data structure is in the form (x,y,d)"
      ],
      "metadata": {
        "id": "mBxMzdx8gMqd"
      }
    },
    {
      "cell_type": "code",
      "source": [
        "#Process the data for LSTM\n",
        "trainX =np.array(X_train)\n",
        "testX =np.array(X_test)\n",
        "X_train = trainX.reshape(X_train.shape[0], 1, X_train.shape[1])\n",
        "X_test = testX.reshape(X_test.shape[0], 1, X_test.shape[1])"
      ],
      "metadata": {
        "id": "eXRtfO2p7D6O"
      },
      "execution_count": 13,
      "outputs": []
    },
    {
      "cell_type": "markdown",
      "source": [
        "**Building the LSTM Model for Stock Market Prediction**"
      ],
      "metadata": {
        "id": "XpUYvOfYg4JJ"
      }
    },
    {
      "cell_type": "code",
      "source": [
        "#Building the LSTM Model\n",
        "lstm = Sequential()\n",
        "lstm.add(LSTM(32, input_shape=(1, trainX.shape[1]), activation='relu', return_sequences=False))\n",
        "lstm.add(Dense(1))\n",
        "lstm.compile(loss='mean_squared_error', optimizer='adam')\n",
        "plot_model(lstm, show_shapes=True, show_layer_names=True)"
      ],
      "metadata": {
        "colab": {
          "base_uri": "https://localhost:8080/",
          "height": 312
        },
        "id": "h8XXHa84g1SO",
        "outputId": "4671243c-1094-4b68-f052-1bdd8b6658ef"
      },
      "execution_count": 14,
      "outputs": [
        {
          "output_type": "execute_result",
          "data": {
            "image/png": "[encoded data removed]",
            "text/plain": [
              "<IPython.core.display.Image object>"
            ]
          },
          "metadata": {},
          "execution_count": 14
        }
      ]
    },
    {
      "cell_type": "markdown",
      "source": [
        "train the LSTM model for 100 epochs with a batch size of 8."
      ],
      "metadata": {
        "id": "LGl84hFtinoB"
      }
    },
    {
      "cell_type": "code",
      "source": [
        "history=lstm.fit(X_train, y_train, epochs=100, batch_size=8, verbose=1, shuffle=False)"
      ],
      "metadata": {
        "colab": {
          "base_uri": "https://localhost:8080/"
        },
        "id": "6jVY1I4vim_I",
        "outputId": "7ac10460-90aa-4877-8a99-e4ffc4d021cb"
      },
      "execution_count": 15,
      "outputs": [
        {
          "output_type": "stream",
          "name": "stdout",
          "text": [
            "Epoch 1/100\n",
            "1024/1024 [==============================] - 3s 2ms/step - loss: 69.2985\n",
            "Epoch 2/100\n",
            "1024/1024 [==============================] - 2s 2ms/step - loss: 181.6042\n",
            "Epoch 3/100\n",
            "1024/1024 [==============================] - 2s 2ms/step - loss: 124.0873\n",
            "Epoch 4/100\n",
            "1024/1024 [==============================] - 2s 2ms/step - loss: 65.0019\n",
            "Epoch 5/100\n",
            "1024/1024 [==============================] - 2s 2ms/step - loss: 28.7259\n",
            "Epoch 6/100\n",
            "1024/1024 [==============================] - 2s 2ms/step - loss: 10.4387\n",
            "Epoch 7/100\n",
            "1024/1024 [==============================] - 2s 2ms/step - loss: 4.1529\n",
            "Epoch 8/100\n",
            "1024/1024 [==============================] - 2s 2ms/step - loss: 2.3882\n",
            "Epoch 9/100\n",
            "1024/1024 [==============================] - 2s 2ms/step - loss: 1.7128\n",
            "Epoch 10/100\n",
            "1024/1024 [==============================] - 2s 2ms/step - loss: 1.3597\n",
            "Epoch 11/100\n",
            "1024/1024 [==============================] - 2s 2ms/step - loss: 1.1690\n",
            "Epoch 12/100\n",
            "1024/1024 [==============================] - 2s 2ms/step - loss: 1.0726\n",
            "Epoch 13/100\n",
            "1024/1024 [==============================] - 2s 2ms/step - loss: 1.0258\n",
            "Epoch 14/100\n",
            "1024/1024 [==============================] - 2s 2ms/step - loss: 1.0020\n",
            "Epoch 15/100\n",
            "1024/1024 [==============================] - 2s 2ms/step - loss: 0.9884\n",
            "Epoch 16/100\n",
            "1024/1024 [==============================] - 2s 2ms/step - loss: 0.9793\n",
            "Epoch 17/100\n",
            "1024/1024 [==============================] - 2s 2ms/step - loss: 0.9722\n",
            "Epoch 18/100\n",
            "1024/1024 [==============================] - 2s 2ms/step - loss: 0.9661\n",
            "Epoch 19/100\n",
            "1024/1024 [==============================] - 2s 2ms/step - loss: 0.9604\n",
            "Epoch 20/100\n",
            "1024/1024 [==============================] - 2s 2ms/step - loss: 0.9551\n",
            "Epoch 21/100\n",
            "1024/1024 [==============================] - 2s 2ms/step - loss: 0.9500\n",
            "Epoch 22/100\n",
            "1024/1024 [==============================] - 2s 2ms/step - loss: 0.9452\n",
            "Epoch 23/100\n",
            "1024/1024 [==============================] - 2s 2ms/step - loss: 0.9406\n",
            "Epoch 24/100\n",
            "1024/1024 [==============================] - 2s 2ms/step - loss: 0.9362\n",
            "Epoch 25/100\n",
            "1024/1024 [==============================] - 2s 2ms/step - loss: 0.9320\n",
            "Epoch 26/100\n",
            "1024/1024 [==============================] - 2s 2ms/step - loss: 0.9281\n",
            "Epoch 27/100\n",
            "1024/1024 [==============================] - 2s 2ms/step - loss: 0.9243\n",
            "Epoch 28/100\n",
            "1024/1024 [==============================] - 2s 2ms/step - loss: 0.9206\n",
            "Epoch 29/100\n",
            "1024/1024 [==============================] - 2s 2ms/step - loss: 0.9172\n",
            "Epoch 30/100\n",
            "1024/1024 [==============================] - 2s 2ms/step - loss: 0.9139\n",
            "Epoch 31/100\n",
            "1024/1024 [==============================] - 2s 2ms/step - loss: 0.9108\n",
            "Epoch 32/100\n",
            "1024/1024 [==============================] - 2s 2ms/step - loss: 0.9079\n",
            "Epoch 33/100\n",
            "1024/1024 [==============================] - 2s 2ms/step - loss: 0.9050\n",
            "Epoch 34/100\n",
            "1024/1024 [==============================] - 2s 2ms/step - loss: 0.9024\n",
            "Epoch 35/100\n",
            "1024/1024 [==============================] - 2s 2ms/step - loss: 0.8998\n",
            "Epoch 36/100\n",
            "1024/1024 [==============================] - 2s 2ms/step - loss: 0.8974\n",
            "Epoch 37/100\n",
            "1024/1024 [==============================] - 2s 2ms/step - loss: 0.8951\n",
            "Epoch 38/100\n",
            "1024/1024 [==============================] - 2s 2ms/step - loss: 0.8929\n",
            "Epoch 39/100\n",
            "1024/1024 [==============================] - 2s 2ms/step - loss: 0.8908\n",
            "Epoch 40/100\n",
            "1024/1024 [==============================] - 2s 2ms/step - loss: 0.8888\n",
            "Epoch 41/100\n",
            "1024/1024 [==============================] - 2s 2ms/step - loss: 0.8869\n",
            "Epoch 42/100\n",
            "1024/1024 [==============================] - 2s 2ms/step - loss: 0.8851\n",
            "Epoch 43/100\n",
            "1024/1024 [==============================] - 2s 2ms/step - loss: 0.8834\n",
            "Epoch 44/100\n",
            "1024/1024 [==============================] - 2s 2ms/step - loss: 0.8818\n",
            "Epoch 45/100\n",
            "1024/1024 [==============================] - 2s 2ms/step - loss: 0.8802\n",
            "Epoch 46/100\n",
            "1024/1024 [==============================] - 2s 2ms/step - loss: 0.8788\n",
            "Epoch 47/100\n",
            "1024/1024 [==============================] - 2s 2ms/step - loss: 0.8774\n",
            "Epoch 48/100\n",
            "1024/1024 [==============================] - 2s 2ms/step - loss: 0.8761\n",
            "Epoch 49/100\n",
            "1024/1024 [==============================] - 2s 2ms/step - loss: 0.8749\n",
            "Epoch 50/100\n",
            "1024/1024 [==============================] - 2s 2ms/step - loss: 0.8737\n",
            "Epoch 51/100\n",
            "1024/1024 [==============================] - 2s 2ms/step - loss: 0.8726\n",
            "Epoch 52/100\n",
            "1024/1024 [==============================] - 2s 2ms/step - loss: 0.8716\n",
            "Epoch 53/100\n",
            "1024/1024 [==============================] - 2s 2ms/step - loss: 0.8706\n",
            "Epoch 54/100\n",
            "1024/1024 [==============================] - 2s 2ms/step - loss: 0.8696\n",
            "Epoch 55/100\n",
            "1024/1024 [==============================] - 2s 2ms/step - loss: 0.8687\n",
            "Epoch 56/100\n",
            "1024/1024 [==============================] - 2s 2ms/step - loss: 0.8678\n",
            "Epoch 57/100\n",
            "1024/1024 [==============================] - 2s 2ms/step - loss: 0.8670\n",
            "Epoch 58/100\n",
            "1024/1024 [==============================] - 2s 2ms/step - loss: 0.8662\n",
            "Epoch 59/100\n",
            "1024/1024 [==============================] - 2s 2ms/step - loss: 0.8654\n",
            "Epoch 60/100\n",
            "1024/1024 [==============================] - 2s 2ms/step - loss: 0.8646\n",
            "Epoch 61/100\n",
            "1024/1024 [==============================] - 2s 2ms/step - loss: 0.8638\n",
            "Epoch 62/100\n",
            "1024/1024 [==============================] - 2s 2ms/step - loss: 0.8632\n",
            "Epoch 63/100\n",
            "1024/1024 [==============================] - 2s 2ms/step - loss: 0.8625\n",
            "Epoch 64/100\n",
            "1024/1024 [==============================] - 2s 2ms/step - loss: 0.8619\n",
            "Epoch 65/100\n",
            "1024/1024 [==============================] - 2s 2ms/step - loss: 0.8613\n",
            "Epoch 66/100\n",
            "1024/1024 [==============================] - 2s 2ms/step - loss: 0.8607\n",
            "Epoch 67/100\n",
            "1024/1024 [==============================] - 2s 2ms/step - loss: 0.8602\n",
            "Epoch 68/100\n",
            "1024/1024 [==============================] - 2s 2ms/step - loss: 0.8597\n",
            "Epoch 69/100\n",
            "1024/1024 [==============================] - 2s 2ms/step - loss: 0.8593\n",
            "Epoch 70/100\n",
            "1024/1024 [==============================] - 2s 2ms/step - loss: 0.8588\n",
            "Epoch 71/100\n",
            "1024/1024 [==============================] - 2s 2ms/step - loss: 0.8584\n",
            "Epoch 72/100\n",
            "1024/1024 [==============================] - 2s 2ms/step - loss: 0.8581\n",
            "Epoch 73/100\n",
            "1024/1024 [==============================] - 2s 2ms/step - loss: 0.8578\n",
            "Epoch 74/100\n",
            "1024/1024 [==============================] - 2s 2ms/step - loss: 0.8575\n",
            "Epoch 75/100\n",
            "1024/1024 [==============================] - 2s 2ms/step - loss: 0.8572\n",
            "Epoch 76/100\n",
            "1024/1024 [==============================] - 2s 2ms/step - loss: 0.8569\n",
            "Epoch 77/100\n",
            "1024/1024 [==============================] - 2s 2ms/step - loss: 0.8567\n",
            "Epoch 78/100\n",
            "1024/1024 [==============================] - 2s 2ms/step - loss: 0.8565\n",
            "Epoch 79/100\n",
            "1024/1024 [==============================] - 2s 2ms/step - loss: 0.8563\n",
            "Epoch 80/100\n",
            "1024/1024 [==============================] - 2s 2ms/step - loss: 0.8562\n",
            "Epoch 81/100\n",
            "1024/1024 [==============================] - 2s 2ms/step - loss: 0.8560\n",
            "Epoch 82/100\n",
            "1024/1024 [==============================] - 2s 2ms/step - loss: 0.8559\n",
            "Epoch 83/100\n",
            "1024/1024 [==============================] - 2s 2ms/step - loss: 0.8558\n",
            "Epoch 84/100\n",
            "1024/1024 [==============================] - 2s 2ms/step - loss: 0.8557\n",
            "Epoch 85/100\n",
            "1024/1024 [==============================] - 2s 2ms/step - loss: 0.8557\n",
            "Epoch 86/100\n",
            "1024/1024 [==============================] - 2s 2ms/step - loss: 0.8557\n",
            "Epoch 87/100\n",
            "1024/1024 [==============================] - 2s 2ms/step - loss: 0.8556\n",
            "Epoch 88/100\n",
            "1024/1024 [==============================] - 2s 2ms/step - loss: 0.8556\n",
            "Epoch 89/100\n",
            "1024/1024 [==============================] - 2s 2ms/step - loss: 0.8557\n",
            "Epoch 90/100\n",
            "1024/1024 [==============================] - 2s 2ms/step - loss: 0.8557\n",
            "Epoch 91/100\n",
            "1024/1024 [==============================] - 2s 2ms/step - loss: 0.8558\n",
            "Epoch 92/100\n",
            "1024/1024 [==============================] - 2s 2ms/step - loss: 0.8558\n",
            "Epoch 93/100\n",
            "1024/1024 [==============================] - 2s 2ms/step - loss: 0.8559\n",
            "Epoch 94/100\n",
            "1024/1024 [==============================] - 2s 2ms/step - loss: 0.8560\n",
            "Epoch 95/100\n",
            "1024/1024 [==============================] - 2s 2ms/step - loss: 0.8561\n",
            "Epoch 96/100\n",
            "1024/1024 [==============================] - 2s 2ms/step - loss: 0.8562\n",
            "Epoch 97/100\n",
            "1024/1024 [==============================] - 2s 2ms/step - loss: 0.8563\n",
            "Epoch 98/100\n",
            "1024/1024 [==============================] - 2s 2ms/step - loss: 0.8565\n",
            "Epoch 99/100\n",
            "1024/1024 [==============================] - 2s 2ms/step - loss: 0.8567\n",
            "Epoch 100/100\n",
            "1024/1024 [==============================] - 2s 2ms/step - loss: 0.8569\n"
          ]
        }
      ]
    },
    {
      "cell_type": "markdown",
      "source": [
        "**LSTM Prediction**"
      ],
      "metadata": {
        "id": "CqfrbIA-jDm7"
      }
    },
    {
      "cell_type": "code",
      "source": [
        "#LSTM Prediction\n",
        "y_pred= lstm.predict(X_test)"
      ],
      "metadata": {
        "id": "TYKoiLHhjCfb"
      },
      "execution_count": 16,
      "outputs": []
    },
    {
      "cell_type": "markdown",
      "source": [
        "**Comparing Predicted vs True Adjusted Close Value – LSTM**"
      ],
      "metadata": {
        "id": "pDs1Dz5GjMji"
      }
    },
    {
      "cell_type": "code",
      "source": [
        "#Predicted vs True Adj Close Value – LSTM\n",
        "plt.plot(y_test, label='True Value')\n",
        "plt.plot(y_pred, label='LSTM Value')\n",
        "plt.title('Prediction by LSTM')\n",
        "plt.xlabel('Time Scale')\n",
        "plt.ylabel('Scaled USD')\n",
        "plt.legend()\n",
        "plt.show()"
      ],
      "metadata": {
        "colab": {
          "base_uri": "https://localhost:8080/",
          "height": 295
        },
        "id": "xT-JbsoIjL6R",
        "outputId": "4f2f43b4-2fb6-4a6a-8ca1-1d9b9a2feedc"
      },
      "execution_count": 18,
      "outputs": [
        {
          "output_type": "display_data",
          "data": {
            "image/png": "[encoded data removed]",
            "text/plain": [
              "<Figure size 432x288 with 1 Axes>"
            ]
          },
          "metadata": {
            "needs_background": "light"
          }
        }
      ]
    }
  ]
}